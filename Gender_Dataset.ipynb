{
  "nbformat": 4,
  "nbformat_minor": 0,
  "metadata": {
    "colab": {
      "name": "Gender_Dataset.ipynb",
      "provenance": [],
      "collapsed_sections": [],
      "include_colab_link": true
    },
    "kernelspec": {
      "name": "python3",
      "display_name": "Python 3"
    },
    "language_info": {
      "name": "python"
    }
  },
  "cells": [
    {
      "cell_type": "markdown",
      "metadata": {
        "id": "view-in-github",
        "colab_type": "text"
      },
      "source": [
        "<a href=\"https://colab.research.google.com/github/datilasilva/sql_gender_equality/blob/main/Gender_Dataset.ipynb\" target=\"_parent\"><img src=\"https://colab.research.google.com/assets/colab-badge.svg\" alt=\"Open In Colab\"/></a>"
      ]
    },
    {
      "cell_type": "code",
      "metadata": {
        "id": "oPSFYAOW5p3L"
      },
      "source": [
        "# Load some libraries we need\n",
        "import pandas as pd #https://pandas.pydata.org/\n",
        "import numpy as np #https://numpy.org/\n",
        "import pandas.io.sql as pd_sql #https://pandas.pydata.org/pandas-docs/version/0.16.0/generated/pandas.io.sql.read_sql.html\n",
        "import sqlite3 as sql #https://docs.python.org/3/library/sqlite3.html\n",
        "#%load_ext google.colab.data_table #Colab includes an extension that renders pandas dataframes into interactive displays that can be filtered, sorted, and explored dynamically."
      ],
      "execution_count": null,
      "outputs": []
    },
    {
      "cell_type": "code",
      "metadata": {
        "colab": {
          "base_uri": "https://localhost:8080/",
          "height": 35
        },
        "id": "W3k2KQjXBw69",
        "outputId": "ca823e69-5bd8-43c6-9453-dbcd7624913a"
      },
      "source": [
        "pd.__version__#Check API version. This is not necessary at all, but I noticed that there were a lot of tutorial with commands that no longer work. Version is important."
      ],
      "execution_count": null,
      "outputs": [
        {
          "output_type": "execute_result",
          "data": {
            "application/vnd.google.colaboratory.intrinsic+json": {
              "type": "string"
            },
            "text/plain": [
              "'1.1.5'"
            ]
          },
          "metadata": {},
          "execution_count": 2
        }
      ]
    },
    {
      "cell_type": "code",
      "metadata": {
        "colab": {
          "base_uri": "https://localhost:8080/"
        },
        "id": "-bgTsQlprd3J",
        "outputId": "45b5e508-721c-4c9b-9dd7-c879ff47e572"
      },
      "source": [
        "from google.colab import drive #https://colab.research.google.com/notebooks/io.ipynb\n",
        "drive.mount('/content/drive')"
      ],
      "execution_count": null,
      "outputs": [
        {
          "output_type": "stream",
          "name": "stdout",
          "text": [
            "Drive already mounted at /content/drive; to attempt to forcibly remount, call drive.mount(\"/content/drive\", force_remount=True).\n"
          ]
        }
      ]
    },
    {
      "cell_type": "markdown",
      "metadata": {
        "id": "lHuWcjneGYf1"
      },
      "source": [
        "The file contains comma-separated values (CSV) about the artists, tracks, and their popularity scores. The data is extracted using Spotify's developer API. It contains information about tracks from the year 2018 to 2021."
      ]
    },
    {
      "cell_type": "code",
      "metadata": {
        "id": "9t2lltntobjt"
      },
      "source": [
        "path = \"/content/drive/MyDrive/sql_project_inequalitygender/csv_database/illiterate_world_population.csv\"\n",
        "df = pd.read_csv(path)\n",
        "# Dataset is now stored in a Pandas Dataframe"
      ],
      "execution_count": null,
      "outputs": []
    },
    {
      "cell_type": "code",
      "metadata": {
        "id": "Jm8BvR8zoexA"
      },
      "source": [
        "db_conn = sql.connect('GenderInequality.db') #connect/create a database with the name \"Inequality_data\"\n",
        "pd_sql.DataFrame.to_sql(df,'illiterate_world_population',db_conn, if_exists='replace') # write to DB as table named \"gender\""
      ],
      "execution_count": null,
      "outputs": []
    },
    {
      "cell_type": "code",
      "metadata": {
        "colab": {
          "base_uri": "https://localhost:8080/"
        },
        "id": "58EV-o_rok9V",
        "outputId": "72ed7c9e-ed74-4d30-c514-711fddeb0354"
      },
      "source": [
        "print (df.columns)"
      ],
      "execution_count": null,
      "outputs": [
        {
          "output_type": "stream",
          "name": "stdout",
          "text": [
            "Index(['year_reference_world', 'illiterate_world_youth_total',\n",
            "       'illiterate_world_youth_women', 'illiterate_world_youth_men'],\n",
            "      dtype='object')\n"
          ]
        }
      ]
    },
    {
      "cell_type": "code",
      "metadata": {
        "colab": {
          "base_uri": "https://localhost:8080/",
          "height": 700
        },
        "id": "1tgTFJCQopeH",
        "outputId": "c9b91927-10a4-4d80-a938-fffe7a176c01"
      },
      "source": [
        "#File (CVS) name: illiterate_world_population.csv\n",
        "#SubtitleEXCEL(ORIGINAL): Youth Illiterate Population (Number) - National populations aged 15 to 24 years as weights.   \n",
        "#Command colab FROM: illiterate_world_population\n",
        "#UNICEF GLOBAL DATABASES\n",
        "#Illiterate_world_population: The result of illiteracy compared year by year, comparison between genders in percentage.\n",
        "\n",
        "pd.read_sql(\n",
        "\"\"\"\n",
        "with new AS (SELECT\n",
        "\n",
        "  population_women.year_reference_world AS Year,\n",
        "  population_women.illiterate_world_youth_total AS total_illiterate,\n",
        "  population_women.illiterate_world_youth_women AS Women,\n",
        "  population_men.illiterate_world_youth_men AS Men,\n",
        "  ROUND ((population_women.illiterate_world_youth_women * 100.0)/population_women.illiterate_world_youth_total, 2) AS Percentage_women,\n",
        "  ROUND ((population_women.illiterate_world_youth_men * 100.0)/population_women.illiterate_world_youth_total, 2) AS Percentage_men\n",
        "  \n",
        "FROM illiterate_world_population AS population_women\n",
        "INNER JOIN illiterate_world_population AS population_men\n",
        "ON year = population_men.year_reference_world)\n",
        "\n",
        "SELECT *,\n",
        "percentage_women - percentage_men AS Difference\n",
        "FROM new\n",
        "      \n",
        "\"\"\", db_conn)"
      ],
      "execution_count": null,
      "outputs": [
        {
          "output_type": "execute_result",
          "data": {
            "text/html": [
              "<div>\n",
              "<style scoped>\n",
              "    .dataframe tbody tr th:only-of-type {\n",
              "        vertical-align: middle;\n",
              "    }\n",
              "\n",
              "    .dataframe tbody tr th {\n",
              "        vertical-align: top;\n",
              "    }\n",
              "\n",
              "    .dataframe thead th {\n",
              "        text-align: right;\n",
              "    }\n",
              "</style>\n",
              "<table border=\"1\" class=\"dataframe\">\n",
              "  <thead>\n",
              "    <tr style=\"text-align: right;\">\n",
              "      <th></th>\n",
              "      <th>Year</th>\n",
              "      <th>total_illiterate</th>\n",
              "      <th>Women</th>\n",
              "      <th>Men</th>\n",
              "      <th>Percentage_women</th>\n",
              "      <th>Percentage_men</th>\n",
              "      <th>Difference</th>\n",
              "    </tr>\n",
              "  </thead>\n",
              "  <tbody>\n",
              "    <tr>\n",
              "      <th>0</th>\n",
              "      <td>1995</td>\n",
              "      <td>162029266</td>\n",
              "      <td>98977774</td>\n",
              "      <td>63051493</td>\n",
              "      <td>61.09</td>\n",
              "      <td>38.91</td>\n",
              "      <td>22.18</td>\n",
              "    </tr>\n",
              "    <tr>\n",
              "      <th>1</th>\n",
              "      <td>1996</td>\n",
              "      <td>160501813</td>\n",
              "      <td>97588596</td>\n",
              "      <td>62913217</td>\n",
              "      <td>60.80</td>\n",
              "      <td>39.20</td>\n",
              "      <td>21.60</td>\n",
              "    </tr>\n",
              "    <tr>\n",
              "      <th>2</th>\n",
              "      <td>1997</td>\n",
              "      <td>153178589</td>\n",
              "      <td>92273672</td>\n",
              "      <td>60904916</td>\n",
              "      <td>60.24</td>\n",
              "      <td>39.76</td>\n",
              "      <td>20.48</td>\n",
              "    </tr>\n",
              "    <tr>\n",
              "      <th>3</th>\n",
              "      <td>1998</td>\n",
              "      <td>146461402</td>\n",
              "      <td>90248597</td>\n",
              "      <td>56212804</td>\n",
              "      <td>61.62</td>\n",
              "      <td>38.38</td>\n",
              "      <td>23.24</td>\n",
              "    </tr>\n",
              "    <tr>\n",
              "      <th>4</th>\n",
              "      <td>1999</td>\n",
              "      <td>144747902</td>\n",
              "      <td>88747627</td>\n",
              "      <td>56000276</td>\n",
              "      <td>61.31</td>\n",
              "      <td>38.69</td>\n",
              "      <td>22.62</td>\n",
              "    </tr>\n",
              "    <tr>\n",
              "      <th>5</th>\n",
              "      <td>2000</td>\n",
              "      <td>143540625</td>\n",
              "      <td>87857918</td>\n",
              "      <td>55682707</td>\n",
              "      <td>61.21</td>\n",
              "      <td>38.79</td>\n",
              "      <td>22.42</td>\n",
              "    </tr>\n",
              "    <tr>\n",
              "      <th>6</th>\n",
              "      <td>2001</td>\n",
              "      <td>145600392</td>\n",
              "      <td>88493885</td>\n",
              "      <td>57106507</td>\n",
              "      <td>60.78</td>\n",
              "      <td>39.22</td>\n",
              "      <td>21.56</td>\n",
              "    </tr>\n",
              "    <tr>\n",
              "      <th>7</th>\n",
              "      <td>2002</td>\n",
              "      <td>142516769</td>\n",
              "      <td>86965534</td>\n",
              "      <td>55551235</td>\n",
              "      <td>61.02</td>\n",
              "      <td>38.98</td>\n",
              "      <td>22.04</td>\n",
              "    </tr>\n",
              "    <tr>\n",
              "      <th>8</th>\n",
              "      <td>2003</td>\n",
              "      <td>139694071</td>\n",
              "      <td>85703690</td>\n",
              "      <td>53990381</td>\n",
              "      <td>61.35</td>\n",
              "      <td>38.65</td>\n",
              "      <td>22.70</td>\n",
              "    </tr>\n",
              "    <tr>\n",
              "      <th>9</th>\n",
              "      <td>2004</td>\n",
              "      <td>133592352</td>\n",
              "      <td>81542142</td>\n",
              "      <td>52050210</td>\n",
              "      <td>61.04</td>\n",
              "      <td>38.96</td>\n",
              "      <td>22.08</td>\n",
              "    </tr>\n",
              "    <tr>\n",
              "      <th>10</th>\n",
              "      <td>2005</td>\n",
              "      <td>134223726</td>\n",
              "      <td>83105362</td>\n",
              "      <td>51118364</td>\n",
              "      <td>61.92</td>\n",
              "      <td>38.08</td>\n",
              "      <td>23.84</td>\n",
              "    </tr>\n",
              "    <tr>\n",
              "      <th>11</th>\n",
              "      <td>2006</td>\n",
              "      <td>132737729</td>\n",
              "      <td>81647557</td>\n",
              "      <td>51090172</td>\n",
              "      <td>61.51</td>\n",
              "      <td>38.49</td>\n",
              "      <td>23.02</td>\n",
              "    </tr>\n",
              "    <tr>\n",
              "      <th>12</th>\n",
              "      <td>2007</td>\n",
              "      <td>133437062</td>\n",
              "      <td>80197886</td>\n",
              "      <td>53239175</td>\n",
              "      <td>60.10</td>\n",
              "      <td>39.90</td>\n",
              "      <td>20.20</td>\n",
              "    </tr>\n",
              "    <tr>\n",
              "      <th>13</th>\n",
              "      <td>2008</td>\n",
              "      <td>126640609</td>\n",
              "      <td>76932083</td>\n",
              "      <td>49708526</td>\n",
              "      <td>60.75</td>\n",
              "      <td>39.25</td>\n",
              "      <td>21.50</td>\n",
              "    </tr>\n",
              "    <tr>\n",
              "      <th>14</th>\n",
              "      <td>2009</td>\n",
              "      <td>125602211</td>\n",
              "      <td>75792109</td>\n",
              "      <td>49810102</td>\n",
              "      <td>60.34</td>\n",
              "      <td>39.66</td>\n",
              "      <td>20.68</td>\n",
              "    </tr>\n",
              "    <tr>\n",
              "      <th>15</th>\n",
              "      <td>2010</td>\n",
              "      <td>125129301</td>\n",
              "      <td>74457365</td>\n",
              "      <td>50671936</td>\n",
              "      <td>59.50</td>\n",
              "      <td>40.50</td>\n",
              "      <td>19.00</td>\n",
              "    </tr>\n",
              "    <tr>\n",
              "      <th>16</th>\n",
              "      <td>2011</td>\n",
              "      <td>125802271</td>\n",
              "      <td>72411599</td>\n",
              "      <td>53390672</td>\n",
              "      <td>57.56</td>\n",
              "      <td>42.44</td>\n",
              "      <td>15.12</td>\n",
              "    </tr>\n",
              "    <tr>\n",
              "      <th>17</th>\n",
              "      <td>2012</td>\n",
              "      <td>113170173</td>\n",
              "      <td>66777492</td>\n",
              "      <td>46392681</td>\n",
              "      <td>59.01</td>\n",
              "      <td>40.99</td>\n",
              "      <td>18.02</td>\n",
              "    </tr>\n",
              "    <tr>\n",
              "      <th>18</th>\n",
              "      <td>2013</td>\n",
              "      <td>110875305</td>\n",
              "      <td>64878396</td>\n",
              "      <td>45996910</td>\n",
              "      <td>58.51</td>\n",
              "      <td>41.49</td>\n",
              "      <td>17.02</td>\n",
              "    </tr>\n",
              "    <tr>\n",
              "      <th>19</th>\n",
              "      <td>2014</td>\n",
              "      <td>106885389</td>\n",
              "      <td>61939664</td>\n",
              "      <td>44945726</td>\n",
              "      <td>57.95</td>\n",
              "      <td>42.05</td>\n",
              "      <td>15.90</td>\n",
              "    </tr>\n",
              "    <tr>\n",
              "      <th>20</th>\n",
              "      <td>2015</td>\n",
              "      <td>104368506</td>\n",
              "      <td>59896654</td>\n",
              "      <td>44471852</td>\n",
              "      <td>57.39</td>\n",
              "      <td>42.61</td>\n",
              "      <td>14.78</td>\n",
              "    </tr>\n",
              "  </tbody>\n",
              "</table>\n",
              "</div>"
            ],
            "text/plain": [
              "    Year  total_illiterate  ...  Percentage_men  Difference\n",
              "0   1995         162029266  ...           38.91       22.18\n",
              "1   1996         160501813  ...           39.20       21.60\n",
              "2   1997         153178589  ...           39.76       20.48\n",
              "3   1998         146461402  ...           38.38       23.24\n",
              "4   1999         144747902  ...           38.69       22.62\n",
              "5   2000         143540625  ...           38.79       22.42\n",
              "6   2001         145600392  ...           39.22       21.56\n",
              "7   2002         142516769  ...           38.98       22.04\n",
              "8   2003         139694071  ...           38.65       22.70\n",
              "9   2004         133592352  ...           38.96       22.08\n",
              "10  2005         134223726  ...           38.08       23.84\n",
              "11  2006         132737729  ...           38.49       23.02\n",
              "12  2007         133437062  ...           39.90       20.20\n",
              "13  2008         126640609  ...           39.25       21.50\n",
              "14  2009         125602211  ...           39.66       20.68\n",
              "15  2010         125129301  ...           40.50       19.00\n",
              "16  2011         125802271  ...           42.44       15.12\n",
              "17  2012         113170173  ...           40.99       18.02\n",
              "18  2013         110875305  ...           41.49       17.02\n",
              "19  2014         106885389  ...           42.05       15.90\n",
              "20  2015         104368506  ...           42.61       14.78\n",
              "\n",
              "[21 rows x 7 columns]"
            ]
          },
          "metadata": {},
          "execution_count": 7
        }
      ]
    },
    {
      "cell_type": "code",
      "metadata": {
        "id": "-VsElUjYP6Mj"
      },
      "source": [
        "path = \"/content/drive/MyDrive/sql_project_inequalitygender/csv_database/illiterate_by_year.csv\"\n",
        "df = pd.read_csv(path)\n",
        "# Dataset is now stored in a Pandas Dataframe"
      ],
      "execution_count": null,
      "outputs": []
    },
    {
      "cell_type": "code",
      "metadata": {
        "id": "Hoyr_6OXRWi6"
      },
      "source": [
        "db_conn = sql.connect('GenderInequality.db') #connect/create a database with the name \"Inequality_data\"\n",
        "pd_sql.DataFrame.to_sql(df,'illiterate_by_year',db_conn, if_exists='replace') # write to DB as table named \"gender\""
      ],
      "execution_count": null,
      "outputs": []
    },
    {
      "cell_type": "code",
      "metadata": {
        "colab": {
          "base_uri": "https://localhost:8080/"
        },
        "id": "u7yp6-etRgXO",
        "outputId": "5b745961-9f7e-49c7-dd39-536a3b90b715"
      },
      "source": [
        "print (df.columns)"
      ],
      "execution_count": null,
      "outputs": [
        {
          "output_type": "stream",
          "name": "stdout",
          "text": [
            "Index(['illiterate_year', 'illiterate_men', 'illiterate_women',\n",
            "       'illiterate_black_women', 'illiterate_white_women',\n",
            "       'illiterate_black_men', 'illiterate_white_men'],\n",
            "      dtype='object')\n"
          ]
        }
      ]
    },
    {
      "cell_type": "code",
      "metadata": {
        "id": "nr8c0_c7SDmh"
      },
      "source": [
        "path = \"/content/drive/MyDrive/sql_project_inequalitygender/csv_database/year_aplication_brazil.csv\"\n",
        "df = pd.read_csv(path)\n",
        "# Dataset is now stored in a Pandas Dataframe"
      ],
      "execution_count": null,
      "outputs": []
    },
    {
      "cell_type": "code",
      "metadata": {
        "id": "Ec6QaWxWSKfA"
      },
      "source": [
        "db_conn = sql.connect('GenderInequality.db') #connect/create a database with the name \"Inequality_data\"\n",
        "pd_sql.DataFrame.to_sql(df,'year_aplication_brazil',db_conn, if_exists='replace') # write to DB as table named \"gender\""
      ],
      "execution_count": null,
      "outputs": []
    },
    {
      "cell_type": "code",
      "metadata": {
        "colab": {
          "base_uri": "https://localhost:8080/"
        },
        "id": "sJOa68mgSRBk",
        "outputId": "43a5c17e-132f-4fce-909a-3870cce308a2"
      },
      "source": [
        "print (df.columns)"
      ],
      "execution_count": null,
      "outputs": [
        {
          "output_type": "stream",
          "name": "stdout",
          "text": [
            "Index(['year_reference_application', 'graduation_application_brazil',\n",
            "       'brazil_population'],\n",
            "      dtype='object')\n"
          ]
        }
      ]
    },
    {
      "cell_type": "code",
      "metadata": {
        "colab": {
          "base_uri": "https://localhost:8080/",
          "height": 80
        },
        "id": "Xx9dHK03STLm",
        "outputId": "ffd1090c-7332-4306-97b1-573bbde561b1"
      },
      "source": [
        "#Year_aplication_brazil: ​​join the table year_aplication_brazil with Illiterate_by_year. Add the total of the first and compare in millions the level of illiteracy with the \n",
        "#number of enrollments in higher education in 2015 and AVG illiterate_br and AVG Enrollment. Percentage\n",
        "#File (CVS) name: illiterate_by_year.csv. Table number EXCEL(ORIGINAL): Tabela 3.4b1. Command colab FROM: illiterate_by_year\n",
        "#SubtitleEXCEL(ORIGINAL): illiterate 15 years old or more - 1995/2015\n",
        "#File (CVS) name: year_aplication_brazil.csv\n",
        "#SubtitleEXCEL(ORIGINAL): INEP - Erollement (Graduation) 2019 - Command colab FROM:  year_aplication_brazil\n",
        "\n",
        "pd.read_sql(\n",
        "\"\"\"\n",
        "with new AS (SELECT\n",
        "AVG(brazil_population) as avg_population,\n",
        "ROUND(AVG(graduation_application_brazil),1) as avg_enrollment,\n",
        "ROUND(AVG(illiterate_by_year.illiterate_men + illiterate_by_year.illiterate_women),1) as avg_illiterate\n",
        "FROM year_aplication_brazil\n",
        "JOIN illiterate_by_year\n",
        "ON year_reference_application = illiterate_year)\n",
        "\n",
        "SELECT \n",
        "avg_population,\n",
        "avg_enrollment,\n",
        "avg_illiterate,\n",
        "(avg_population * 100.0)/avg_population AS Percentage_population,\n",
        "(avg_enrollment * 100.0)/avg_population AS Percentage_enrollment,\n",
        "(avg_illiterate * 100.0)/avg_population AS Percentage_illiterate\n",
        "\n",
        "FROM new\n",
        "\"\"\", db_conn)"
      ],
      "execution_count": null,
      "outputs": [
        {
          "output_type": "execute_result",
          "data": {
            "text/html": [
              "<div>\n",
              "<style scoped>\n",
              "    .dataframe tbody tr th:only-of-type {\n",
              "        vertical-align: middle;\n",
              "    }\n",
              "\n",
              "    .dataframe tbody tr th {\n",
              "        vertical-align: top;\n",
              "    }\n",
              "\n",
              "    .dataframe thead th {\n",
              "        text-align: right;\n",
              "    }\n",
              "</style>\n",
              "<table border=\"1\" class=\"dataframe\">\n",
              "  <thead>\n",
              "    <tr style=\"text-align: right;\">\n",
              "      <th></th>\n",
              "      <th>avg_population</th>\n",
              "      <th>avg_enrollment</th>\n",
              "      <th>avg_illiterate</th>\n",
              "      <th>Percentage_population</th>\n",
              "      <th>Percentage_enrollment</th>\n",
              "      <th>Percentage_illiterate</th>\n",
              "    </tr>\n",
              "  </thead>\n",
              "  <tbody>\n",
              "    <tr>\n",
              "      <th>0</th>\n",
              "      <td>196524506.0</td>\n",
              "      <td>6927330.7</td>\n",
              "      <td>13372903.9</td>\n",
              "      <td>100.0</td>\n",
              "      <td>3.52492</td>\n",
              "      <td>6.8047</td>\n",
              "    </tr>\n",
              "  </tbody>\n",
              "</table>\n",
              "</div>"
            ],
            "text/plain": [
              "   avg_population  avg_enrollment  ...  Percentage_enrollment  Percentage_illiterate\n",
              "0     196524506.0       6927330.7  ...                3.52492                 6.8047\n",
              "\n",
              "[1 rows x 6 columns]"
            ]
          },
          "metadata": {},
          "execution_count": 14
        }
      ]
    },
    {
      "cell_type": "code",
      "metadata": {
        "id": "xUsFrqQzbn-1"
      },
      "source": [
        "path = \"/content/drive/MyDrive/sql_project_inequalitygender/csv_database/illiterate_race.csv\"\n",
        "df = pd.read_csv(path)\n",
        "# Dataset is now stored in a Pandas Dataframe"
      ],
      "execution_count": null,
      "outputs": []
    },
    {
      "cell_type": "code",
      "metadata": {
        "id": "dzFfjLw9d6a5"
      },
      "source": [
        "db_conn = sql.connect('GenderInequality.db') #connect/create a database with the name \"Inequality_data\"\n",
        "pd_sql.DataFrame.to_sql(df,'illiterate_race',db_conn, if_exists='replace') # write to DB as table named \"gender\""
      ],
      "execution_count": null,
      "outputs": []
    },
    {
      "cell_type": "code",
      "metadata": {
        "colab": {
          "base_uri": "https://localhost:8080/"
        },
        "id": "tEJzNC05eEBZ",
        "outputId": "ee0ba5b1-9a63-4af5-cb2c-dd30131df286"
      },
      "source": [
        "print (df.columns)"
      ],
      "execution_count": null,
      "outputs": [
        {
          "output_type": "stream",
          "name": "stdout",
          "text": [
            "Index(['illiterate_year', 'illiterate_black_women', 'illiterate_white_women',\n",
            "       'illiterate_black_men', 'illiterate_white_men'],\n",
            "      dtype='object')\n"
          ]
        }
      ]
    },
    {
      "cell_type": "code",
      "metadata": {
        "colab": {
          "base_uri": "https://localhost:8080/",
          "height": 638
        },
        "id": "fAZM4RweeQ64",
        "outputId": "23d2d69a-222f-42af-904b-7b4da7948ee0"
      },
      "source": [
        "# Illiterate_race: 1) difference in the illiteracy rate between genders and race a)black women x white women, b)black men x white men, c)White women x White men, d)Black women x black men\n",
        "#File (CVS) name: illiterate_race.csv\n",
        "#Table number EXCEL(ORIGINAL): Tabela 3.4a1\n",
        "#SubtitleEXCEL(ORIGINAL): População analfabeta de 15 anos ou mais de idade, por sexo, segundo cor/raça - Brasil e Regiões, 1995 a 2015\tCommand colab FROM: illiterate_race\t\n",
        "pd.read_sql(\n",
        "  \"\"\"\n",
        "    SELECT \n",
        "    illiterate_year AS year, \n",
        "    illiterate_black_women AS black_women, \n",
        "    illiterate_white_women AS white_women,\n",
        "    illiterate_black_men AS black_men,\n",
        "    illiterate_white_men AS white_men,\n",
        "    illiterate_white_women - illiterate_white_men AS difference_white,\n",
        "    illiterate_black_men - illiterate_black_women AS difference_black\n",
        "    FROM illiterate_race\n",
        "\n",
        "  \"\"\", db_conn)"
      ],
      "execution_count": null,
      "outputs": [
        {
          "output_type": "execute_result",
          "data": {
            "text/html": [
              "<div>\n",
              "<style scoped>\n",
              "    .dataframe tbody tr th:only-of-type {\n",
              "        vertical-align: middle;\n",
              "    }\n",
              "\n",
              "    .dataframe tbody tr th {\n",
              "        vertical-align: top;\n",
              "    }\n",
              "\n",
              "    .dataframe thead th {\n",
              "        text-align: right;\n",
              "    }\n",
              "</style>\n",
              "<table border=\"1\" class=\"dataframe\">\n",
              "  <thead>\n",
              "    <tr style=\"text-align: right;\">\n",
              "      <th></th>\n",
              "      <th>year</th>\n",
              "      <th>black_women</th>\n",
              "      <th>white_women</th>\n",
              "      <th>black_men</th>\n",
              "      <th>white_men</th>\n",
              "      <th>difference_white</th>\n",
              "      <th>difference_black</th>\n",
              "    </tr>\n",
              "  </thead>\n",
              "  <tbody>\n",
              "    <tr>\n",
              "      <th>0</th>\n",
              "      <td>1995</td>\n",
              "      <td>5176404</td>\n",
              "      <td>3117595</td>\n",
              "      <td>5199516</td>\n",
              "      <td>2404603</td>\n",
              "      <td>712992</td>\n",
              "      <td>23112</td>\n",
              "    </tr>\n",
              "    <tr>\n",
              "      <th>1</th>\n",
              "      <td>1996</td>\n",
              "      <td>4862312</td>\n",
              "      <td>3196476</td>\n",
              "      <td>4853999</td>\n",
              "      <td>2447863</td>\n",
              "      <td>748613</td>\n",
              "      <td>-8313</td>\n",
              "    </tr>\n",
              "    <tr>\n",
              "      <th>2</th>\n",
              "      <td>1997</td>\n",
              "      <td>5175279</td>\n",
              "      <td>3055614</td>\n",
              "      <td>5216864</td>\n",
              "      <td>2364315</td>\n",
              "      <td>691299</td>\n",
              "      <td>41585</td>\n",
              "    </tr>\n",
              "    <tr>\n",
              "      <th>3</th>\n",
              "      <td>1998</td>\n",
              "      <td>4959518</td>\n",
              "      <td>2908589</td>\n",
              "      <td>5037104</td>\n",
              "      <td>2290189</td>\n",
              "      <td>618400</td>\n",
              "      <td>77586</td>\n",
              "    </tr>\n",
              "    <tr>\n",
              "      <th>4</th>\n",
              "      <td>1999</td>\n",
              "      <td>5020964</td>\n",
              "      <td>2922107</td>\n",
              "      <td>4984282</td>\n",
              "      <td>2411579</td>\n",
              "      <td>510528</td>\n",
              "      <td>-36682</td>\n",
              "    </tr>\n",
              "    <tr>\n",
              "      <th>5</th>\n",
              "      <td>2001</td>\n",
              "      <td>5002179</td>\n",
              "      <td>2859096</td>\n",
              "      <td>5000732</td>\n",
              "      <td>2331151</td>\n",
              "      <td>527945</td>\n",
              "      <td>-1447</td>\n",
              "    </tr>\n",
              "    <tr>\n",
              "      <th>6</th>\n",
              "      <td>2002</td>\n",
              "      <td>4798797</td>\n",
              "      <td>2834930</td>\n",
              "      <td>4948508</td>\n",
              "      <td>2312865</td>\n",
              "      <td>522065</td>\n",
              "      <td>149711</td>\n",
              "    </tr>\n",
              "    <tr>\n",
              "      <th>7</th>\n",
              "      <td>2003</td>\n",
              "      <td>4949945</td>\n",
              "      <td>2726346</td>\n",
              "      <td>5043043</td>\n",
              "      <td>2171726</td>\n",
              "      <td>554620</td>\n",
              "      <td>93098</td>\n",
              "    </tr>\n",
              "    <tr>\n",
              "      <th>8</th>\n",
              "      <td>2004</td>\n",
              "      <td>5003434</td>\n",
              "      <td>2796342</td>\n",
              "      <td>5157970</td>\n",
              "      <td>2283103</td>\n",
              "      <td>513239</td>\n",
              "      <td>154536</td>\n",
              "    </tr>\n",
              "    <tr>\n",
              "      <th>9</th>\n",
              "      <td>2005</td>\n",
              "      <td>4986868</td>\n",
              "      <td>2709466</td>\n",
              "      <td>5218441</td>\n",
              "      <td>2191362</td>\n",
              "      <td>518104</td>\n",
              "      <td>231573</td>\n",
              "    </tr>\n",
              "    <tr>\n",
              "      <th>10</th>\n",
              "      <td>2006</td>\n",
              "      <td>4830032</td>\n",
              "      <td>2529679</td>\n",
              "      <td>5014059</td>\n",
              "      <td>2101656</td>\n",
              "      <td>428023</td>\n",
              "      <td>184027</td>\n",
              "    </tr>\n",
              "    <tr>\n",
              "      <th>11</th>\n",
              "      <td>2007</td>\n",
              "      <td>4802512</td>\n",
              "      <td>2400119</td>\n",
              "      <td>4984821</td>\n",
              "      <td>1994777</td>\n",
              "      <td>405342</td>\n",
              "      <td>182309</td>\n",
              "    </tr>\n",
              "    <tr>\n",
              "      <th>12</th>\n",
              "      <td>2008</td>\n",
              "      <td>4819421</td>\n",
              "      <td>2441362</td>\n",
              "      <td>4953292</td>\n",
              "      <td>2016423</td>\n",
              "      <td>424939</td>\n",
              "      <td>133871</td>\n",
              "    </tr>\n",
              "    <tr>\n",
              "      <th>13</th>\n",
              "      <td>2009</td>\n",
              "      <td>4909551</td>\n",
              "      <td>2385523</td>\n",
              "      <td>4938371</td>\n",
              "      <td>1913992</td>\n",
              "      <td>471531</td>\n",
              "      <td>28820</td>\n",
              "    </tr>\n",
              "    <tr>\n",
              "      <th>14</th>\n",
              "      <td>2011</td>\n",
              "      <td>4450767</td>\n",
              "      <td>2101723</td>\n",
              "      <td>4568699</td>\n",
              "      <td>1783001</td>\n",
              "      <td>318722</td>\n",
              "      <td>117932</td>\n",
              "    </tr>\n",
              "    <tr>\n",
              "      <th>15</th>\n",
              "      <td>2012</td>\n",
              "      <td>4598380</td>\n",
              "      <td>2082997</td>\n",
              "      <td>4825282</td>\n",
              "      <td>1755834</td>\n",
              "      <td>327163</td>\n",
              "      <td>226902</td>\n",
              "    </tr>\n",
              "    <tr>\n",
              "      <th>16</th>\n",
              "      <td>2013</td>\n",
              "      <td>4578192</td>\n",
              "      <td>2092954</td>\n",
              "      <td>4847369</td>\n",
              "      <td>1713199</td>\n",
              "      <td>379755</td>\n",
              "      <td>269177</td>\n",
              "    </tr>\n",
              "    <tr>\n",
              "      <th>17</th>\n",
              "      <td>2014</td>\n",
              "      <td>4554707</td>\n",
              "      <td>1988459</td>\n",
              "      <td>4808253</td>\n",
              "      <td>1710936</td>\n",
              "      <td>277523</td>\n",
              "      <td>253546</td>\n",
              "    </tr>\n",
              "    <tr>\n",
              "      <th>18</th>\n",
              "      <td>2015</td>\n",
              "      <td>4467278</td>\n",
              "      <td>1944291</td>\n",
              "      <td>4694251</td>\n",
              "      <td>1665820</td>\n",
              "      <td>278471</td>\n",
              "      <td>226973</td>\n",
              "    </tr>\n",
              "  </tbody>\n",
              "</table>\n",
              "</div>"
            ],
            "text/plain": [
              "    year  black_women  ...  difference_white  difference_black\n",
              "0   1995      5176404  ...            712992             23112\n",
              "1   1996      4862312  ...            748613             -8313\n",
              "2   1997      5175279  ...            691299             41585\n",
              "3   1998      4959518  ...            618400             77586\n",
              "4   1999      5020964  ...            510528            -36682\n",
              "5   2001      5002179  ...            527945             -1447\n",
              "6   2002      4798797  ...            522065            149711\n",
              "7   2003      4949945  ...            554620             93098\n",
              "8   2004      5003434  ...            513239            154536\n",
              "9   2005      4986868  ...            518104            231573\n",
              "10  2006      4830032  ...            428023            184027\n",
              "11  2007      4802512  ...            405342            182309\n",
              "12  2008      4819421  ...            424939            133871\n",
              "13  2009      4909551  ...            471531             28820\n",
              "14  2011      4450767  ...            318722            117932\n",
              "15  2012      4598380  ...            327163            226902\n",
              "16  2013      4578192  ...            379755            269177\n",
              "17  2014      4554707  ...            277523            253546\n",
              "18  2015      4467278  ...            278471            226973\n",
              "\n",
              "[19 rows x 7 columns]"
            ]
          },
          "metadata": {},
          "execution_count": 18
        }
      ]
    },
    {
      "cell_type": "code",
      "metadata": {
        "id": "ERvO9eUyrFHt"
      },
      "source": [
        "path = \"/content/drive/MyDrive/sql_project_inequalitygender/csv_database/avg_study_year.csv\"\n",
        "df = pd.read_csv(path)\n",
        "# Dataset is now stored in a Pandas Dataframe"
      ],
      "execution_count": null,
      "outputs": []
    },
    {
      "cell_type": "code",
      "metadata": {
        "id": "z6eCMbtkrUKD"
      },
      "source": [
        "db_conn = sql.connect('GenderInequality.db') #connect/create a database with the name \"Inequality_data\"\n",
        "pd_sql.DataFrame.to_sql(df,'avg_study_year',db_conn, if_exists='replace') # write to DB as table named \"gender\""
      ],
      "execution_count": null,
      "outputs": []
    },
    {
      "cell_type": "code",
      "metadata": {
        "colab": {
          "base_uri": "https://localhost:8080/"
        },
        "id": "phGVviF8rc0Z",
        "outputId": "f9480905-9413-48a4-fa58-728b51cc72c2"
      },
      "source": [
        "print (df.columns)"
      ],
      "execution_count": null,
      "outputs": [
        {
          "output_type": "stream",
          "name": "stdout",
          "text": [
            "Index(['year_reference', 'avg_year_blackwomen_study',\n",
            "       'avg_year_whitewomen_study', 'avg_year_blackmen_study',\n",
            "       'avg_year_whitemen_study'],\n",
            "      dtype='object')\n"
          ]
        }
      ]
    },
    {
      "cell_type": "code",
      "metadata": {
        "colab": {
          "base_uri": "https://localhost:8080/",
          "height": 638
        },
        "id": "3peyn6ODsCw3",
        "outputId": "ee040d7b-9365-4fe3-bbef-bad8cae9986c"
      },
      "source": [
        "#  Avg_study_year: 1) difference in evolution of the amount of studied years between genders and race. a)black women x white women, b)black men x white men,  c)White women x White men, \n",
        "#d)Black women x black men\n",
        "#File (CVS) name: avg_study_year.csv\n",
        "#Table number EXCEL(ORIGINAL): Tabela 3.1b\n",
        "#SubtitleEXCEL(ORIGINAL): AVG years population - Brazil, 1995/2015\t-\tCommand colab FROM: avg_study_year\t\n",
        "\n",
        "pd.read_sql (\"\"\"\n",
        "    SELECT year_reference as year,\n",
        "    avg_year_whitewomen_study AS whitewomen,\n",
        "    avg_year_blackwomen_study AS blackwomen,\n",
        "    avg_year_whitewomen_study - avg_year_blackwomen_study AS difference\n",
        "    FROM avg_study_year;\n",
        "  \"\"\", db_conn)"
      ],
      "execution_count": null,
      "outputs": [
        {
          "output_type": "execute_result",
          "data": {
            "text/html": [
              "<div>\n",
              "<style scoped>\n",
              "    .dataframe tbody tr th:only-of-type {\n",
              "        vertical-align: middle;\n",
              "    }\n",
              "\n",
              "    .dataframe tbody tr th {\n",
              "        vertical-align: top;\n",
              "    }\n",
              "\n",
              "    .dataframe thead th {\n",
              "        text-align: right;\n",
              "    }\n",
              "</style>\n",
              "<table border=\"1\" class=\"dataframe\">\n",
              "  <thead>\n",
              "    <tr style=\"text-align: right;\">\n",
              "      <th></th>\n",
              "      <th>year</th>\n",
              "      <th>whitewomen</th>\n",
              "      <th>blackwomen</th>\n",
              "      <th>difference</th>\n",
              "    </tr>\n",
              "  </thead>\n",
              "  <tbody>\n",
              "    <tr>\n",
              "      <th>0</th>\n",
              "      <td>1995</td>\n",
              "      <td>6.1</td>\n",
              "      <td>4.2</td>\n",
              "      <td>1.9</td>\n",
              "    </tr>\n",
              "    <tr>\n",
              "      <th>1</th>\n",
              "      <td>1996</td>\n",
              "      <td>5.9</td>\n",
              "      <td>4.1</td>\n",
              "      <td>1.8</td>\n",
              "    </tr>\n",
              "    <tr>\n",
              "      <th>2</th>\n",
              "      <td>1997</td>\n",
              "      <td>6.1</td>\n",
              "      <td>4.2</td>\n",
              "      <td>1.9</td>\n",
              "    </tr>\n",
              "    <tr>\n",
              "      <th>3</th>\n",
              "      <td>1998</td>\n",
              "      <td>6.2</td>\n",
              "      <td>4.4</td>\n",
              "      <td>1.8</td>\n",
              "    </tr>\n",
              "    <tr>\n",
              "      <th>4</th>\n",
              "      <td>1999</td>\n",
              "      <td>6.4</td>\n",
              "      <td>4.5</td>\n",
              "      <td>1.9</td>\n",
              "    </tr>\n",
              "    <tr>\n",
              "      <th>5</th>\n",
              "      <td>2001</td>\n",
              "      <td>6.7</td>\n",
              "      <td>4.9</td>\n",
              "      <td>1.8</td>\n",
              "    </tr>\n",
              "    <tr>\n",
              "      <th>6</th>\n",
              "      <td>2002</td>\n",
              "      <td>6.8</td>\n",
              "      <td>5.1</td>\n",
              "      <td>1.7</td>\n",
              "    </tr>\n",
              "    <tr>\n",
              "      <th>7</th>\n",
              "      <td>2003</td>\n",
              "      <td>7.0</td>\n",
              "      <td>5.3</td>\n",
              "      <td>1.7</td>\n",
              "    </tr>\n",
              "    <tr>\n",
              "      <th>8</th>\n",
              "      <td>2004</td>\n",
              "      <td>7.1</td>\n",
              "      <td>5.4</td>\n",
              "      <td>1.7</td>\n",
              "    </tr>\n",
              "    <tr>\n",
              "      <th>9</th>\n",
              "      <td>2005</td>\n",
              "      <td>7.2</td>\n",
              "      <td>5.6</td>\n",
              "      <td>1.6</td>\n",
              "    </tr>\n",
              "    <tr>\n",
              "      <th>10</th>\n",
              "      <td>2006</td>\n",
              "      <td>7.4</td>\n",
              "      <td>5.8</td>\n",
              "      <td>1.6</td>\n",
              "    </tr>\n",
              "    <tr>\n",
              "      <th>11</th>\n",
              "      <td>2007</td>\n",
              "      <td>7.5</td>\n",
              "      <td>5.9</td>\n",
              "      <td>1.6</td>\n",
              "    </tr>\n",
              "    <tr>\n",
              "      <th>12</th>\n",
              "      <td>2008</td>\n",
              "      <td>7.7</td>\n",
              "      <td>6.1</td>\n",
              "      <td>1.6</td>\n",
              "    </tr>\n",
              "    <tr>\n",
              "      <th>13</th>\n",
              "      <td>2009</td>\n",
              "      <td>7.8</td>\n",
              "      <td>6.2</td>\n",
              "      <td>1.6</td>\n",
              "    </tr>\n",
              "    <tr>\n",
              "      <th>14</th>\n",
              "      <td>2011</td>\n",
              "      <td>7.9</td>\n",
              "      <td>6.5</td>\n",
              "      <td>1.4</td>\n",
              "    </tr>\n",
              "    <tr>\n",
              "      <th>15</th>\n",
              "      <td>2012</td>\n",
              "      <td>8.2</td>\n",
              "      <td>6.7</td>\n",
              "      <td>1.5</td>\n",
              "    </tr>\n",
              "    <tr>\n",
              "      <th>16</th>\n",
              "      <td>2013</td>\n",
              "      <td>8.3</td>\n",
              "      <td>6.8</td>\n",
              "      <td>1.5</td>\n",
              "    </tr>\n",
              "    <tr>\n",
              "      <th>17</th>\n",
              "      <td>2014</td>\n",
              "      <td>8.4</td>\n",
              "      <td>7.0</td>\n",
              "      <td>1.4</td>\n",
              "    </tr>\n",
              "    <tr>\n",
              "      <th>18</th>\n",
              "      <td>2015</td>\n",
              "      <td>8.5</td>\n",
              "      <td>7.1</td>\n",
              "      <td>1.4</td>\n",
              "    </tr>\n",
              "  </tbody>\n",
              "</table>\n",
              "</div>"
            ],
            "text/plain": [
              "    year  whitewomen  blackwomen  difference\n",
              "0   1995         6.1         4.2         1.9\n",
              "1   1996         5.9         4.1         1.8\n",
              "2   1997         6.1         4.2         1.9\n",
              "3   1998         6.2         4.4         1.8\n",
              "4   1999         6.4         4.5         1.9\n",
              "5   2001         6.7         4.9         1.8\n",
              "6   2002         6.8         5.1         1.7\n",
              "7   2003         7.0         5.3         1.7\n",
              "8   2004         7.1         5.4         1.7\n",
              "9   2005         7.2         5.6         1.6\n",
              "10  2006         7.4         5.8         1.6\n",
              "11  2007         7.5         5.9         1.6\n",
              "12  2008         7.7         6.1         1.6\n",
              "13  2009         7.8         6.2         1.6\n",
              "14  2011         7.9         6.5         1.4\n",
              "15  2012         8.2         6.7         1.5\n",
              "16  2013         8.3         6.8         1.5\n",
              "17  2014         8.4         7.0         1.4\n",
              "18  2015         8.5         7.1         1.4"
            ]
          },
          "metadata": {},
          "execution_count": 22
        }
      ]
    },
    {
      "cell_type": "code",
      "metadata": {
        "id": "lS-v595oyMy5"
      },
      "source": [
        "path = \"/content/drive/MyDrive/sql_project_inequalitygender/csv_database/avg_poverty_year.csv\"\n",
        "df = pd.read_csv(path)\n",
        "# Dataset is now stored in a Pandas Dataframe"
      ],
      "execution_count": null,
      "outputs": []
    },
    {
      "cell_type": "code",
      "metadata": {
        "id": "UgeYSTJCySGX"
      },
      "source": [
        "db_conn = sql.connect('GenderInequality.db') #connect/create a database with the name \"Inequality_data\"\n",
        "pd_sql.DataFrame.to_sql(df,'avg_poverty_year',db_conn, if_exists='replace') # write to DB as table named \"gender\""
      ],
      "execution_count": null,
      "outputs": []
    },
    {
      "cell_type": "code",
      "metadata": {
        "colab": {
          "base_uri": "https://localhost:8080/"
        },
        "id": "e1ZN87jcygmQ",
        "outputId": "322be077-8784-43f0-804c-df754a84b513"
      },
      "source": [
        "print (df.columns)"
      ],
      "execution_count": null,
      "outputs": [
        {
          "output_type": "stream",
          "name": "stdout",
          "text": [
            "Index(['year_reference_poverty', 'avg_year_ext_poor_blackwomen',\n",
            "       'avg_year_ext_poor_whitewomen', 'avg_year_ext_poor_blackmen',\n",
            "       'avg_year_ext_poor_whitemen', 'avg_year_poor_blackwomen',\n",
            "       'avg_year_poor_whitewomen', 'avg_year_poor_blackmen',\n",
            "       'avg_year_poor_whitemen', 'avg_year_vulnerable_blackwomen',\n",
            "       'avg_year_vulnerable_whitewomen', 'avg_year_vulnerable_blackmen',\n",
            "       'avg_year_vulnerable_whitemen', 'avg_year_not_poor_blackwomen',\n",
            "       'avg_year_not_poor_whitewomen', 'avg_year_not_poor_blackmen',\n",
            "       'avg_year_not_poor_whitemen'],\n",
            "      dtype='object')\n"
          ]
        }
      ]
    },
    {
      "cell_type": "code",
      "metadata": {
        "colab": {
          "base_uri": "https://localhost:8080/",
          "height": 100
        },
        "id": "TjIXnwDTyiTw",
        "outputId": "bb539f21-c252-43d6-ff30-8e90d75d7a31"
      },
      "source": [
        "#Avg_poverty_year: the difference between years of schooling between poverty levels according to the respective genders. \n",
        "#File (CVS) name: avg_poverty_year.csv\n",
        "#Table number EXCEL(ORIGINAL): Tabela 3.1d\tSubtitleEXCEL(ORIGINAL): AVG study years (15 years or more-  1995 / 2015 Brazil)\n",
        "#Command colab FROM: avg_poverty_year\n",
        "pd.read_sql(\n",
        "\"\"\"\n",
        "SELECT ROUND(AVG(avg_year_ext_poor_blackwomen),2) AS ext_poor_blackwomen,\n",
        "ROUND(AVG(avg_year_ext_poor_whitewomen),2) AS ext_poor_whitewomen,\n",
        "ROUND(AVG(avg_year_ext_poor_blackmen),2) AS ext_poor_blackmen,\n",
        "ROUND(AVG(avg_year_ext_poor_whitemen),2) AS ext_poor_whitemen,\n",
        "ROUND(AVG(avg_year_poor_blackwomen),2) AS poor_blackwomen,\n",
        "ROUND(AVG(avg_year_poor_whitewomen),2) AS poor_whitewomen,\n",
        "ROUND(AVG(avg_year_poor_blackmen),2) AS poor_blackmen,\n",
        "ROUND(AVG(avg_year_poor_whitemen),2) AS poor_whitemen,\n",
        "ROUND(AVG(avg_year_vulnerable_blackwomen),2) AS vulnerable_blackwomen,\n",
        "ROUND(AVG(avg_year_vulnerable_whitewomen),2) AS vulnerable_whitewomen,\n",
        "ROUND(AVG(avg_year_vulnerable_blackmen),2) AS vulnerable_blackmen,\n",
        "ROUND(AVG(avg_year_vulnerable_whitemen),2) AS vulnerable_whitemen,\n",
        "ROUND(AVG(avg_year_not_poor_blackwomen),2) AS not_poor_blackwomen,\n",
        "ROUND(AVG(avg_year_not_poor_whitewomen),2) AS not_poor_whitewomen,\n",
        "ROUND(AVG(avg_year_not_poor_blackmen),2) AS not_poor_blackmen,\n",
        "ROUND(AVG(avg_year_not_poor_whitemen),2) AS not_poor_whitemen\n",
        "FROM avg_poverty_year\n",
        "      \n",
        "\"\"\", db_conn)"
      ],
      "execution_count": null,
      "outputs": [
        {
          "output_type": "execute_result",
          "data": {
            "text/html": [
              "<div>\n",
              "<style scoped>\n",
              "    .dataframe tbody tr th:only-of-type {\n",
              "        vertical-align: middle;\n",
              "    }\n",
              "\n",
              "    .dataframe tbody tr th {\n",
              "        vertical-align: top;\n",
              "    }\n",
              "\n",
              "    .dataframe thead th {\n",
              "        text-align: right;\n",
              "    }\n",
              "</style>\n",
              "<table border=\"1\" class=\"dataframe\">\n",
              "  <thead>\n",
              "    <tr style=\"text-align: right;\">\n",
              "      <th></th>\n",
              "      <th>ext_poor_blackwomen</th>\n",
              "      <th>ext_poor_whitewomen</th>\n",
              "      <th>ext_poor_blackmen</th>\n",
              "      <th>ext_poor_whitemen</th>\n",
              "      <th>poor_blackwomen</th>\n",
              "      <th>poor_whitewomen</th>\n",
              "      <th>poor_blackmen</th>\n",
              "      <th>poor_whitemen</th>\n",
              "      <th>vulnerable_blackwomen</th>\n",
              "      <th>vulnerable_whitewomen</th>\n",
              "      <th>vulnerable_blackmen</th>\n",
              "      <th>vulnerable_whitemen</th>\n",
              "      <th>not_poor_blackwomen</th>\n",
              "      <th>not_poor_whitewomen</th>\n",
              "      <th>not_poor_blackmen</th>\n",
              "      <th>not_poor_whitemen</th>\n",
              "    </tr>\n",
              "  </thead>\n",
              "  <tbody>\n",
              "    <tr>\n",
              "      <th>0</th>\n",
              "      <td>4.35</td>\n",
              "      <td>5.51</td>\n",
              "      <td>3.68</td>\n",
              "      <td>4.96</td>\n",
              "      <td>4.48</td>\n",
              "      <td>5.05</td>\n",
              "      <td>3.76</td>\n",
              "      <td>4.37</td>\n",
              "      <td>5.83</td>\n",
              "      <td>6.47</td>\n",
              "      <td>5.37</td>\n",
              "      <td>6.19</td>\n",
              "      <td>8.69</td>\n",
              "      <td>9.67</td>\n",
              "      <td>8.37</td>\n",
              "      <td>9.66</td>\n",
              "    </tr>\n",
              "  </tbody>\n",
              "</table>\n",
              "</div>"
            ],
            "text/plain": [
              "   ext_poor_blackwomen  ...  not_poor_whitemen\n",
              "0                 4.35  ...               9.66\n",
              "\n",
              "[1 rows x 16 columns]"
            ]
          },
          "metadata": {},
          "execution_count": 26
        }
      ]
    },
    {
      "cell_type": "code",
      "metadata": {
        "id": "Oz05kUwtz65M"
      },
      "source": [
        "path = \"/content/drive/MyDrive/sql_project_inequalitygender/csv_database/avg_study_job_year.csv\"\n",
        "df = pd.read_csv(path)\n",
        "# Dataset is now stored in a Pandas Dataframe"
      ],
      "execution_count": null,
      "outputs": []
    },
    {
      "cell_type": "code",
      "metadata": {
        "id": "QbMCI0tr0bj4"
      },
      "source": [
        "db_conn = sql.connect('GenderInequality.db') #connect/create a database with the name \"Inequality_data\"\n",
        "pd_sql.DataFrame.to_sql(df,'avg_study_job_year',db_conn, if_exists='replace') # write to DB as table named \"gender\""
      ],
      "execution_count": null,
      "outputs": []
    },
    {
      "cell_type": "code",
      "metadata": {
        "id": "VPr4Apkv0i65",
        "colab": {
          "base_uri": "https://localhost:8080/"
        },
        "outputId": "e83d97f0-625c-4d86-858b-7e54aafc1694"
      },
      "source": [
        "print (df.columns)"
      ],
      "execution_count": null,
      "outputs": [
        {
          "output_type": "stream",
          "name": "stdout",
          "text": [
            "Index(['year_job', 'avg_year_blackwomen_study_job',\n",
            "       'avg_year_whitewomen_study_job', 'avg_year_blackmen_study_job',\n",
            "       'avg_year_whitemen_study_job'],\n",
            "      dtype='object')\n"
          ]
        }
      ]
    },
    {
      "cell_type": "code",
      "metadata": {
        "id": "VwUEoDwe0msB",
        "colab": {
          "base_uri": "https://localhost:8080/",
          "height": 80
        },
        "outputId": "2499bc80-3470-47cd-a160-e3b0c5dd1a4c"
      },
      "source": [
        "#avg_study_job_year: Discover which gender and race  has the most need to work and study simultaneously. Ex: What is the percentage of black people that have to work and study simultaneously.? \n",
        "#File (CVS) name: avg_study_job_year.csv\n",
        "#Table number EXCEL(ORIGINAL): Tabela 3.1c2\t\t\tSubtitleEXCEL(ORIGINAL): Média de anos de estudo das pessoas ocupadas com 16 anos ou mais de idade, segundo cor/raça, sexo - Brasil, 1995 a 2015\t\t\n",
        "#Command colab FROM: avg_study_job_year.csv\n",
        "pd.read_sql(\n",
        "\"\"\"\n",
        "SELECT \n",
        "ROUND(AVG(avg_year_blackwomen_study_job),2) AS blackwomen_study_job,\n",
        "ROUND(AVG(avg_year_whitewomen_study_job),2) AS whitewomen_study_job,\n",
        "ROUND(AVG(avg_year_blackmen_study_job),2) AS blackmen_study_job,\n",
        "ROUND(AVG(avg_year_whitemen_study_job),2) AS whitemen_study_job\n",
        "FROM avg_study_job_year\n",
        "      \n",
        "\"\"\", db_conn)"
      ],
      "execution_count": null,
      "outputs": [
        {
          "output_type": "execute_result",
          "data": {
            "text/html": [
              "<div>\n",
              "<style scoped>\n",
              "    .dataframe tbody tr th:only-of-type {\n",
              "        vertical-align: middle;\n",
              "    }\n",
              "\n",
              "    .dataframe tbody tr th {\n",
              "        vertical-align: top;\n",
              "    }\n",
              "\n",
              "    .dataframe thead th {\n",
              "        text-align: right;\n",
              "    }\n",
              "</style>\n",
              "<table border=\"1\" class=\"dataframe\">\n",
              "  <thead>\n",
              "    <tr style=\"text-align: right;\">\n",
              "      <th></th>\n",
              "      <th>blackwomen_study_job</th>\n",
              "      <th>whitewomen_study_job</th>\n",
              "      <th>blackmen_study_job</th>\n",
              "      <th>whitemen_study_job</th>\n",
              "    </tr>\n",
              "  </thead>\n",
              "  <tbody>\n",
              "    <tr>\n",
              "      <th>0</th>\n",
              "      <td>6.93</td>\n",
              "      <td>9.03</td>\n",
              "      <td>5.9</td>\n",
              "      <td>8.09</td>\n",
              "    </tr>\n",
              "  </tbody>\n",
              "</table>\n",
              "</div>"
            ],
            "text/plain": [
              "   blackwomen_study_job  ...  whitemen_study_job\n",
              "0                  6.93  ...                8.09\n",
              "\n",
              "[1 rows x 4 columns]"
            ]
          },
          "metadata": {},
          "execution_count": 31
        }
      ]
    }
  ]
}